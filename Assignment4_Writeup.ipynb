{
 "cells": [
  {
   "cell_type": "markdown",
   "metadata": {},
   "source": [
    "<h1> Plotting Accuracy and Time for Data Parallelism Assignment </h1>"
   ]
  },
  {
   "cell_type": "code",
   "execution_count": 67,
   "metadata": {},
   "outputs": [],
   "source": [
    "import pandas as pd\n",
    "import matplotlib.pyplot as plt"
   ]
  },
  {
   "cell_type": "markdown",
   "metadata": {},
   "source": [
    "<h2> Import Data </h2>"
   ]
  },
  {
   "cell_type": "code",
   "execution_count": 40,
   "metadata": {},
   "outputs": [],
   "source": [
    "one_process = pd.read_csv('/home/jblanche/Desktop/1_process.csv')"
   ]
  },
  {
   "cell_type": "code",
   "execution_count": 41,
   "metadata": {},
   "outputs": [],
   "source": [
    "two_process = pd.read_csv('/home/jblanche/Desktop/2_process.csv')"
   ]
  },
  {
   "cell_type": "code",
   "execution_count": 42,
   "metadata": {},
   "outputs": [],
   "source": [
    "four_process = pd.read_csv('/home/jblanche/Desktop/4_process.csv')"
   ]
  },
  {
   "cell_type": "code",
   "execution_count": 43,
   "metadata": {},
   "outputs": [],
   "source": [
    "eight_process = pd.read_csv('/home/jblanche/Desktop/8_process.csv')"
   ]
  },
  {
   "cell_type": "markdown",
   "metadata": {},
   "source": [
    "<h2> Rename Columns and Join </h2>"
   ]
  },
  {
   "cell_type": "code",
   "execution_count": 44,
   "metadata": {},
   "outputs": [],
   "source": [
    "one_process.rename(columns={'epoch_losses': 'epoch_losses_1_process', 'elapsed_time': 'elapsed_time_1_process', 'epoch_accuracies': 'epoch_accuracy_1_process'}, inplace=True)"
   ]
  },
  {
   "cell_type": "code",
   "execution_count": 45,
   "metadata": {},
   "outputs": [
    {
     "data": {
      "text/html": [
       "<div>\n",
       "<style scoped>\n",
       "    .dataframe tbody tr th:only-of-type {\n",
       "        vertical-align: middle;\n",
       "    }\n",
       "\n",
       "    .dataframe tbody tr th {\n",
       "        vertical-align: top;\n",
       "    }\n",
       "\n",
       "    .dataframe thead th {\n",
       "        text-align: right;\n",
       "    }\n",
       "</style>\n",
       "<table border=\"1\" class=\"dataframe\">\n",
       "  <thead>\n",
       "    <tr style=\"text-align: right;\">\n",
       "      <th></th>\n",
       "      <th>epoch</th>\n",
       "      <th>epoch_losses_1_process</th>\n",
       "      <th>elapsed_time_1_process</th>\n",
       "      <th>epoch_accuracy_1_process</th>\n",
       "    </tr>\n",
       "  </thead>\n",
       "  <tbody>\n",
       "    <tr>\n",
       "      <th>0</th>\n",
       "      <td>0</td>\n",
       "      <td>2.277540</td>\n",
       "      <td>29.693795</td>\n",
       "      <td>0.182497</td>\n",
       "    </tr>\n",
       "    <tr>\n",
       "      <th>1</th>\n",
       "      <td>1</td>\n",
       "      <td>1.868326</td>\n",
       "      <td>56.299475</td>\n",
       "      <td>0.367826</td>\n",
       "    </tr>\n",
       "    <tr>\n",
       "      <th>2</th>\n",
       "      <td>2</td>\n",
       "      <td>1.383776</td>\n",
       "      <td>84.000408</td>\n",
       "      <td>0.504109</td>\n",
       "    </tr>\n",
       "    <tr>\n",
       "      <th>3</th>\n",
       "      <td>3</td>\n",
       "      <td>1.194800</td>\n",
       "      <td>110.733204</td>\n",
       "      <td>0.578253</td>\n",
       "    </tr>\n",
       "    <tr>\n",
       "      <th>4</th>\n",
       "      <td>4</td>\n",
       "      <td>1.060492</td>\n",
       "      <td>137.405808</td>\n",
       "      <td>0.634245</td>\n",
       "    </tr>\n",
       "  </tbody>\n",
       "</table>\n",
       "</div>"
      ],
      "text/plain": [
       "   epoch  epoch_losses_1_process  elapsed_time_1_process  \\\n",
       "0      0                2.277540               29.693795   \n",
       "1      1                1.868326               56.299475   \n",
       "2      2                1.383776               84.000408   \n",
       "3      3                1.194800              110.733204   \n",
       "4      4                1.060492              137.405808   \n",
       "\n",
       "   epoch_accuracy_1_process  \n",
       "0                  0.182497  \n",
       "1                  0.367826  \n",
       "2                  0.504109  \n",
       "3                  0.578253  \n",
       "4                  0.634245  "
      ]
     },
     "execution_count": 45,
     "metadata": {},
     "output_type": "execute_result"
    }
   ],
   "source": [
    "one_process.head()"
   ]
  },
  {
   "cell_type": "code",
   "execution_count": 46,
   "metadata": {},
   "outputs": [],
   "source": [
    "two_process.rename(columns={'epoch_losses': 'epoch_losses_2_process', 'elapsed_time': 'elapsed_time_2_process', 'epoch_accuracies': 'epoch_accuracy_2_process'}, inplace=True)"
   ]
  },
  {
   "cell_type": "code",
   "execution_count": 47,
   "metadata": {},
   "outputs": [
    {
     "data": {
      "text/html": [
       "<div>\n",
       "<style scoped>\n",
       "    .dataframe tbody tr th:only-of-type {\n",
       "        vertical-align: middle;\n",
       "    }\n",
       "\n",
       "    .dataframe tbody tr th {\n",
       "        vertical-align: top;\n",
       "    }\n",
       "\n",
       "    .dataframe thead th {\n",
       "        text-align: right;\n",
       "    }\n",
       "</style>\n",
       "<table border=\"1\" class=\"dataframe\">\n",
       "  <thead>\n",
       "    <tr style=\"text-align: right;\">\n",
       "      <th></th>\n",
       "      <th>epoch</th>\n",
       "      <th>epoch_losses_2_process</th>\n",
       "      <th>elapsed_time_2_process</th>\n",
       "      <th>epoch_accuracy_2_process</th>\n",
       "    </tr>\n",
       "  </thead>\n",
       "  <tbody>\n",
       "    <tr>\n",
       "      <th>0</th>\n",
       "      <td>0</td>\n",
       "      <td>2.285452</td>\n",
       "      <td>17.373585</td>\n",
       "      <td>0.184918</td>\n",
       "    </tr>\n",
       "    <tr>\n",
       "      <th>1</th>\n",
       "      <td>1</td>\n",
       "      <td>1.951797</td>\n",
       "      <td>30.731509</td>\n",
       "      <td>0.372385</td>\n",
       "    </tr>\n",
       "    <tr>\n",
       "      <th>2</th>\n",
       "      <td>2</td>\n",
       "      <td>1.476605</td>\n",
       "      <td>42.992187</td>\n",
       "      <td>0.478901</td>\n",
       "    </tr>\n",
       "    <tr>\n",
       "      <th>3</th>\n",
       "      <td>3</td>\n",
       "      <td>1.315286</td>\n",
       "      <td>55.223212</td>\n",
       "      <td>0.537555</td>\n",
       "    </tr>\n",
       "    <tr>\n",
       "      <th>4</th>\n",
       "      <td>4</td>\n",
       "      <td>1.219440</td>\n",
       "      <td>67.193624</td>\n",
       "      <td>0.571365</td>\n",
       "    </tr>\n",
       "  </tbody>\n",
       "</table>\n",
       "</div>"
      ],
      "text/plain": [
       "   epoch  epoch_losses_2_process  elapsed_time_2_process  \\\n",
       "0      0                2.285452               17.373585   \n",
       "1      1                1.951797               30.731509   \n",
       "2      2                1.476605               42.992187   \n",
       "3      3                1.315286               55.223212   \n",
       "4      4                1.219440               67.193624   \n",
       "\n",
       "   epoch_accuracy_2_process  \n",
       "0                  0.184918  \n",
       "1                  0.372385  \n",
       "2                  0.478901  \n",
       "3                  0.537555  \n",
       "4                  0.571365  "
      ]
     },
     "execution_count": 47,
     "metadata": {},
     "output_type": "execute_result"
    }
   ],
   "source": [
    "two_process.head()"
   ]
  },
  {
   "cell_type": "code",
   "execution_count": 48,
   "metadata": {},
   "outputs": [],
   "source": [
    "four_process.rename(columns={'epoch_losses': 'epoch_losses_4_process', 'elapsed_time': 'elapsed_time_4_process', 'epoch_accuracies': 'epoch_accuracy_4_process'}, inplace=True)"
   ]
  },
  {
   "cell_type": "code",
   "execution_count": 49,
   "metadata": {},
   "outputs": [
    {
     "data": {
      "text/html": [
       "<div>\n",
       "<style scoped>\n",
       "    .dataframe tbody tr th:only-of-type {\n",
       "        vertical-align: middle;\n",
       "    }\n",
       "\n",
       "    .dataframe tbody tr th {\n",
       "        vertical-align: top;\n",
       "    }\n",
       "\n",
       "    .dataframe thead th {\n",
       "        text-align: right;\n",
       "    }\n",
       "</style>\n",
       "<table border=\"1\" class=\"dataframe\">\n",
       "  <thead>\n",
       "    <tr style=\"text-align: right;\">\n",
       "      <th></th>\n",
       "      <th>epoch</th>\n",
       "      <th>epoch_losses_4_process</th>\n",
       "      <th>elapsed_time_4_process</th>\n",
       "      <th>epoch_accuracy_4_process</th>\n",
       "    </tr>\n",
       "  </thead>\n",
       "  <tbody>\n",
       "    <tr>\n",
       "      <th>0</th>\n",
       "      <td>0</td>\n",
       "      <td>2.296664</td>\n",
       "      <td>10.302687</td>\n",
       "      <td>0.132548</td>\n",
       "    </tr>\n",
       "    <tr>\n",
       "      <th>1</th>\n",
       "      <td>1</td>\n",
       "      <td>2.088180</td>\n",
       "      <td>17.796644</td>\n",
       "      <td>0.282464</td>\n",
       "    </tr>\n",
       "    <tr>\n",
       "      <th>2</th>\n",
       "      <td>2</td>\n",
       "      <td>1.659283</td>\n",
       "      <td>24.849867</td>\n",
       "      <td>0.428981</td>\n",
       "    </tr>\n",
       "    <tr>\n",
       "      <th>3</th>\n",
       "      <td>3</td>\n",
       "      <td>1.376248</td>\n",
       "      <td>31.760417</td>\n",
       "      <td>0.531096</td>\n",
       "    </tr>\n",
       "    <tr>\n",
       "      <th>4</th>\n",
       "      <td>4</td>\n",
       "      <td>1.190813</td>\n",
       "      <td>38.766307</td>\n",
       "      <td>0.604012</td>\n",
       "    </tr>\n",
       "  </tbody>\n",
       "</table>\n",
       "</div>"
      ],
      "text/plain": [
       "   epoch  epoch_losses_4_process  elapsed_time_4_process  \\\n",
       "0      0                2.296664               10.302687   \n",
       "1      1                2.088180               17.796644   \n",
       "2      2                1.659283               24.849867   \n",
       "3      3                1.376248               31.760417   \n",
       "4      4                1.190813               38.766307   \n",
       "\n",
       "   epoch_accuracy_4_process  \n",
       "0                  0.132548  \n",
       "1                  0.282464  \n",
       "2                  0.428981  \n",
       "3                  0.531096  \n",
       "4                  0.604012  "
      ]
     },
     "execution_count": 49,
     "metadata": {},
     "output_type": "execute_result"
    }
   ],
   "source": [
    "four_process.head()"
   ]
  },
  {
   "cell_type": "code",
   "execution_count": 50,
   "metadata": {},
   "outputs": [],
   "source": [
    "eight_process.rename(columns={'epoch_losses': 'epoch_losses_8_process', 'elapsed_time': 'elapsed_time_8_process', 'epoch_accuracies': 'epoch_accuracy_8_process'}, inplace=True)"
   ]
  },
  {
   "cell_type": "code",
   "execution_count": 51,
   "metadata": {},
   "outputs": [
    {
     "data": {
      "text/html": [
       "<div>\n",
       "<style scoped>\n",
       "    .dataframe tbody tr th:only-of-type {\n",
       "        vertical-align: middle;\n",
       "    }\n",
       "\n",
       "    .dataframe tbody tr th {\n",
       "        vertical-align: top;\n",
       "    }\n",
       "\n",
       "    .dataframe thead th {\n",
       "        text-align: right;\n",
       "    }\n",
       "</style>\n",
       "<table border=\"1\" class=\"dataframe\">\n",
       "  <thead>\n",
       "    <tr style=\"text-align: right;\">\n",
       "      <th></th>\n",
       "      <th>epoch</th>\n",
       "      <th>epoch_losses_8_process</th>\n",
       "      <th>elapsed_time_8_process</th>\n",
       "      <th>epoch_accuracy_8_process</th>\n",
       "    </tr>\n",
       "  </thead>\n",
       "  <tbody>\n",
       "    <tr>\n",
       "      <th>0</th>\n",
       "      <td>0</td>\n",
       "      <td>2.304098</td>\n",
       "      <td>8.183969</td>\n",
       "      <td>0.132262</td>\n",
       "    </tr>\n",
       "    <tr>\n",
       "      <th>1</th>\n",
       "      <td>1</td>\n",
       "      <td>2.294289</td>\n",
       "      <td>13.699933</td>\n",
       "      <td>0.136896</td>\n",
       "    </tr>\n",
       "    <tr>\n",
       "      <th>2</th>\n",
       "      <td>2</td>\n",
       "      <td>2.270093</td>\n",
       "      <td>18.208052</td>\n",
       "      <td>0.210631</td>\n",
       "    </tr>\n",
       "    <tr>\n",
       "      <th>3</th>\n",
       "      <td>3</td>\n",
       "      <td>2.095425</td>\n",
       "      <td>22.654131</td>\n",
       "      <td>0.317685</td>\n",
       "    </tr>\n",
       "    <tr>\n",
       "      <th>4</th>\n",
       "      <td>4</td>\n",
       "      <td>1.826674</td>\n",
       "      <td>27.133041</td>\n",
       "      <td>0.372289</td>\n",
       "    </tr>\n",
       "  </tbody>\n",
       "</table>\n",
       "</div>"
      ],
      "text/plain": [
       "   epoch  epoch_losses_8_process  elapsed_time_8_process  \\\n",
       "0      0                2.304098                8.183969   \n",
       "1      1                2.294289               13.699933   \n",
       "2      2                2.270093               18.208052   \n",
       "3      3                2.095425               22.654131   \n",
       "4      4                1.826674               27.133041   \n",
       "\n",
       "   epoch_accuracy_8_process  \n",
       "0                  0.132262  \n",
       "1                  0.136896  \n",
       "2                  0.210631  \n",
       "3                  0.317685  \n",
       "4                  0.372289  "
      ]
     },
     "execution_count": 51,
     "metadata": {},
     "output_type": "execute_result"
    }
   ],
   "source": [
    "eight_process.head()"
   ]
  },
  {
   "cell_type": "code",
   "execution_count": 58,
   "metadata": {},
   "outputs": [],
   "source": [
    "all_proccesses = eight_process.merge(four_process, how='left').merge(two_process, how='left').merge(one_process, how='left')"
   ]
  },
  {
   "cell_type": "code",
   "execution_count": 60,
   "metadata": {},
   "outputs": [
    {
     "data": {
      "text/html": [
       "<div>\n",
       "<style scoped>\n",
       "    .dataframe tbody tr th:only-of-type {\n",
       "        vertical-align: middle;\n",
       "    }\n",
       "\n",
       "    .dataframe tbody tr th {\n",
       "        vertical-align: top;\n",
       "    }\n",
       "\n",
       "    .dataframe thead th {\n",
       "        text-align: right;\n",
       "    }\n",
       "</style>\n",
       "<table border=\"1\" class=\"dataframe\">\n",
       "  <thead>\n",
       "    <tr style=\"text-align: right;\">\n",
       "      <th></th>\n",
       "      <th>epoch</th>\n",
       "      <th>epoch_losses_8_process</th>\n",
       "      <th>elapsed_time_8_process</th>\n",
       "      <th>epoch_accuracy_8_process</th>\n",
       "      <th>epoch_losses_4_process</th>\n",
       "      <th>elapsed_time_4_process</th>\n",
       "      <th>epoch_accuracy_4_process</th>\n",
       "      <th>epoch_losses_2_process</th>\n",
       "      <th>elapsed_time_2_process</th>\n",
       "      <th>epoch_accuracy_2_process</th>\n",
       "      <th>epoch_losses_1_process</th>\n",
       "      <th>elapsed_time_1_process</th>\n",
       "      <th>epoch_accuracy_1_process</th>\n",
       "    </tr>\n",
       "  </thead>\n",
       "  <tbody>\n",
       "    <tr>\n",
       "      <th>0</th>\n",
       "      <td>0</td>\n",
       "      <td>2.304098</td>\n",
       "      <td>8.183969</td>\n",
       "      <td>0.132262</td>\n",
       "      <td>2.296664</td>\n",
       "      <td>10.302687</td>\n",
       "      <td>0.132548</td>\n",
       "      <td>2.285452</td>\n",
       "      <td>17.373585</td>\n",
       "      <td>0.184918</td>\n",
       "      <td>2.277540</td>\n",
       "      <td>29.693795</td>\n",
       "      <td>0.182497</td>\n",
       "    </tr>\n",
       "    <tr>\n",
       "      <th>1</th>\n",
       "      <td>1</td>\n",
       "      <td>2.294289</td>\n",
       "      <td>13.699933</td>\n",
       "      <td>0.136896</td>\n",
       "      <td>2.088180</td>\n",
       "      <td>17.796644</td>\n",
       "      <td>0.282464</td>\n",
       "      <td>1.951797</td>\n",
       "      <td>30.731509</td>\n",
       "      <td>0.372385</td>\n",
       "      <td>1.868326</td>\n",
       "      <td>56.299475</td>\n",
       "      <td>0.367826</td>\n",
       "    </tr>\n",
       "    <tr>\n",
       "      <th>2</th>\n",
       "      <td>2</td>\n",
       "      <td>2.270093</td>\n",
       "      <td>18.208052</td>\n",
       "      <td>0.210631</td>\n",
       "      <td>1.659283</td>\n",
       "      <td>24.849867</td>\n",
       "      <td>0.428981</td>\n",
       "      <td>1.476605</td>\n",
       "      <td>42.992187</td>\n",
       "      <td>0.478901</td>\n",
       "      <td>1.383776</td>\n",
       "      <td>84.000408</td>\n",
       "      <td>0.504109</td>\n",
       "    </tr>\n",
       "    <tr>\n",
       "      <th>3</th>\n",
       "      <td>3</td>\n",
       "      <td>2.095425</td>\n",
       "      <td>22.654131</td>\n",
       "      <td>0.317685</td>\n",
       "      <td>1.376248</td>\n",
       "      <td>31.760417</td>\n",
       "      <td>0.531096</td>\n",
       "      <td>1.315286</td>\n",
       "      <td>55.223212</td>\n",
       "      <td>0.537555</td>\n",
       "      <td>1.194800</td>\n",
       "      <td>110.733204</td>\n",
       "      <td>0.578253</td>\n",
       "    </tr>\n",
       "    <tr>\n",
       "      <th>4</th>\n",
       "      <td>4</td>\n",
       "      <td>1.826674</td>\n",
       "      <td>27.133041</td>\n",
       "      <td>0.372289</td>\n",
       "      <td>1.190813</td>\n",
       "      <td>38.766307</td>\n",
       "      <td>0.604012</td>\n",
       "      <td>1.219440</td>\n",
       "      <td>67.193624</td>\n",
       "      <td>0.571365</td>\n",
       "      <td>1.060492</td>\n",
       "      <td>137.405808</td>\n",
       "      <td>0.634245</td>\n",
       "    </tr>\n",
       "  </tbody>\n",
       "</table>\n",
       "</div>"
      ],
      "text/plain": [
       "   epoch  epoch_losses_8_process  elapsed_time_8_process  \\\n",
       "0      0                2.304098                8.183969   \n",
       "1      1                2.294289               13.699933   \n",
       "2      2                2.270093               18.208052   \n",
       "3      3                2.095425               22.654131   \n",
       "4      4                1.826674               27.133041   \n",
       "\n",
       "   epoch_accuracy_8_process  epoch_losses_4_process  elapsed_time_4_process  \\\n",
       "0                  0.132262                2.296664               10.302687   \n",
       "1                  0.136896                2.088180               17.796644   \n",
       "2                  0.210631                1.659283               24.849867   \n",
       "3                  0.317685                1.376248               31.760417   \n",
       "4                  0.372289                1.190813               38.766307   \n",
       "\n",
       "   epoch_accuracy_4_process  epoch_losses_2_process  elapsed_time_2_process  \\\n",
       "0                  0.132548                2.285452               17.373585   \n",
       "1                  0.282464                1.951797               30.731509   \n",
       "2                  0.428981                1.476605               42.992187   \n",
       "3                  0.531096                1.315286               55.223212   \n",
       "4                  0.604012                1.219440               67.193624   \n",
       "\n",
       "   epoch_accuracy_2_process  epoch_losses_1_process  elapsed_time_1_process  \\\n",
       "0                  0.184918                2.277540               29.693795   \n",
       "1                  0.372385                1.868326               56.299475   \n",
       "2                  0.478901                1.383776               84.000408   \n",
       "3                  0.537555                1.194800              110.733204   \n",
       "4                  0.571365                1.060492              137.405808   \n",
       "\n",
       "   epoch_accuracy_1_process  \n",
       "0                  0.182497  \n",
       "1                  0.367826  \n",
       "2                  0.504109  \n",
       "3                  0.578253  \n",
       "4                  0.634245  "
      ]
     },
     "execution_count": 60,
     "metadata": {},
     "output_type": "execute_result"
    }
   ],
   "source": [
    "all_proccesses.head()"
   ]
  },
  {
   "cell_type": "code",
   "execution_count": 61,
   "metadata": {},
   "outputs": [
    {
     "data": {
      "text/html": [
       "<div>\n",
       "<style scoped>\n",
       "    .dataframe tbody tr th:only-of-type {\n",
       "        vertical-align: middle;\n",
       "    }\n",
       "\n",
       "    .dataframe tbody tr th {\n",
       "        vertical-align: top;\n",
       "    }\n",
       "\n",
       "    .dataframe thead th {\n",
       "        text-align: right;\n",
       "    }\n",
       "</style>\n",
       "<table border=\"1\" class=\"dataframe\">\n",
       "  <thead>\n",
       "    <tr style=\"text-align: right;\">\n",
       "      <th></th>\n",
       "      <th>epoch</th>\n",
       "      <th>epoch_losses_8_process</th>\n",
       "      <th>elapsed_time_8_process</th>\n",
       "      <th>epoch_accuracy_8_process</th>\n",
       "      <th>epoch_losses_4_process</th>\n",
       "      <th>elapsed_time_4_process</th>\n",
       "      <th>epoch_accuracy_4_process</th>\n",
       "      <th>epoch_losses_2_process</th>\n",
       "      <th>elapsed_time_2_process</th>\n",
       "      <th>epoch_accuracy_2_process</th>\n",
       "      <th>epoch_losses_1_process</th>\n",
       "      <th>elapsed_time_1_process</th>\n",
       "      <th>epoch_accuracy_1_process</th>\n",
       "    </tr>\n",
       "  </thead>\n",
       "  <tbody>\n",
       "    <tr>\n",
       "      <th>27</th>\n",
       "      <td>27</td>\n",
       "      <td>0.826176</td>\n",
       "      <td>129.662298</td>\n",
       "      <td>0.746425</td>\n",
       "      <td>0.663172</td>\n",
       "      <td>200.058473</td>\n",
       "      <td>0.795727</td>\n",
       "      <td>0.748949</td>\n",
       "      <td>364.519041</td>\n",
       "      <td>0.751119</td>\n",
       "      <td>0.522668</td>\n",
       "      <td>739.546854</td>\n",
       "      <td>0.830768</td>\n",
       "    </tr>\n",
       "    <tr>\n",
       "      <th>28</th>\n",
       "      <td>28</td>\n",
       "      <td>0.778254</td>\n",
       "      <td>134.199580</td>\n",
       "      <td>0.762092</td>\n",
       "      <td>0.655370</td>\n",
       "      <td>207.072075</td>\n",
       "      <td>0.799038</td>\n",
       "      <td>0.745141</td>\n",
       "      <td>376.553406</td>\n",
       "      <td>0.752449</td>\n",
       "      <td>0.520100</td>\n",
       "      <td>764.084229</td>\n",
       "      <td>0.831301</td>\n",
       "    </tr>\n",
       "    <tr>\n",
       "      <th>29</th>\n",
       "      <td>29</td>\n",
       "      <td>0.790004</td>\n",
       "      <td>138.731442</td>\n",
       "      <td>0.762405</td>\n",
       "      <td>0.652035</td>\n",
       "      <td>216.899153</td>\n",
       "      <td>0.799170</td>\n",
       "      <td>0.741802</td>\n",
       "      <td>388.606401</td>\n",
       "      <td>0.753845</td>\n",
       "      <td>0.517684</td>\n",
       "      <td>788.797646</td>\n",
       "      <td>0.831934</td>\n",
       "    </tr>\n",
       "    <tr>\n",
       "      <th>30</th>\n",
       "      <td>469141</td>\n",
       "      <td>NaN</td>\n",
       "      <td>NaN</td>\n",
       "      <td>NaN</td>\n",
       "      <td>NaN</td>\n",
       "      <td>NaN</td>\n",
       "      <td>NaN</td>\n",
       "      <td>NaN</td>\n",
       "      <td>NaN</td>\n",
       "      <td>NaN</td>\n",
       "      <td>NaN</td>\n",
       "      <td>NaN</td>\n",
       "      <td>NaN</td>\n",
       "    </tr>\n",
       "    <tr>\n",
       "      <th>31</th>\n",
       "      <td>544</td>\n",
       "      <td>NaN</td>\n",
       "      <td>NaN</td>\n",
       "      <td>NaN</td>\n",
       "      <td>NaN</td>\n",
       "      <td>NaN</td>\n",
       "      <td>NaN</td>\n",
       "      <td>NaN</td>\n",
       "      <td>NaN</td>\n",
       "      <td>NaN</td>\n",
       "      <td>NaN</td>\n",
       "      <td>NaN</td>\n",
       "      <td>NaN</td>\n",
       "    </tr>\n",
       "  </tbody>\n",
       "</table>\n",
       "</div>"
      ],
      "text/plain": [
       "     epoch  epoch_losses_8_process  elapsed_time_8_process  \\\n",
       "27      27                0.826176              129.662298   \n",
       "28      28                0.778254              134.199580   \n",
       "29      29                0.790004              138.731442   \n",
       "30  469141                     NaN                     NaN   \n",
       "31     544                     NaN                     NaN   \n",
       "\n",
       "    epoch_accuracy_8_process  epoch_losses_4_process  elapsed_time_4_process  \\\n",
       "27                  0.746425                0.663172              200.058473   \n",
       "28                  0.762092                0.655370              207.072075   \n",
       "29                  0.762405                0.652035              216.899153   \n",
       "30                       NaN                     NaN                     NaN   \n",
       "31                       NaN                     NaN                     NaN   \n",
       "\n",
       "    epoch_accuracy_4_process  epoch_losses_2_process  elapsed_time_2_process  \\\n",
       "27                  0.795727                0.748949              364.519041   \n",
       "28                  0.799038                0.745141              376.553406   \n",
       "29                  0.799170                0.741802              388.606401   \n",
       "30                       NaN                     NaN                     NaN   \n",
       "31                       NaN                     NaN                     NaN   \n",
       "\n",
       "    epoch_accuracy_2_process  epoch_losses_1_process  elapsed_time_1_process  \\\n",
       "27                  0.751119                0.522668              739.546854   \n",
       "28                  0.752449                0.520100              764.084229   \n",
       "29                  0.753845                0.517684              788.797646   \n",
       "30                       NaN                     NaN                     NaN   \n",
       "31                       NaN                     NaN                     NaN   \n",
       "\n",
       "    epoch_accuracy_1_process  \n",
       "27                  0.830768  \n",
       "28                  0.831301  \n",
       "29                  0.831934  \n",
       "30                       NaN  \n",
       "31                       NaN  "
      ]
     },
     "execution_count": 61,
     "metadata": {},
     "output_type": "execute_result"
    }
   ],
   "source": [
    "all_proccesses.tail()"
   ]
  },
  {
   "cell_type": "code",
   "execution_count": 63,
   "metadata": {},
   "outputs": [],
   "source": [
    "all_proccesses = all_proccesses.iloc[:-2]"
   ]
  },
  {
   "cell_type": "markdown",
   "metadata": {},
   "source": [
    "<h2> Accuracy Plot </h2>"
   ]
  },
  {
   "cell_type": "code",
   "execution_count": 73,
   "metadata": {},
   "outputs": [
    {
     "data": {
      "image/png": "[encoded data removed]",
      "text/plain": [
       "<Figure size 432x288 with 1 Axes>"
      ]
     },
     "metadata": {
      "needs_background": "light"
     },
     "output_type": "display_data"
    }
   ],
   "source": [
    "plt.plot('epoch', 'epoch_accuracy_1_process', data=all_proccesses, marker='', color='blue')\n",
    "plt.plot('epoch', 'epoch_accuracy_2_process', data=all_proccesses, marker='', color='red')\n",
    "plt.plot('epoch', 'epoch_accuracy_4_process', data=all_proccesses, marker='', color='green')\n",
    "plt.plot('epoch', 'epoch_accuracy_8_process', data=all_proccesses, marker='', color='skyblue')\n",
    "\n",
    "plt.legend()\n",
    "\n",
    "plt.show()"
   ]
  },
  {
   "cell_type": "markdown",
   "metadata": {},
   "source": [
    "As expected, the accuracy increased with each epoch, peaking around 10 epochs. However, the model performs better with fewer processes."
   ]
  },
  {
   "cell_type": "markdown",
   "metadata": {},
   "source": [
    "<h2> Time Plot </h2>"
   ]
  },
  {
   "cell_type": "code",
   "execution_count": 74,
   "metadata": {},
   "outputs": [
    {
     "data": {
      "image/png": "[encoded data removed]",
      "text/plain": [
       "<Figure size 432x288 with 1 Axes>"
      ]
     },
     "metadata": {
      "needs_background": "light"
     },
     "output_type": "display_data"
    }
   ],
   "source": [
    "plt.plot('epoch', 'elapsed_time_1_process', data=all_proccesses, marker='', color='blue')\n",
    "plt.plot('epoch', 'elapsed_time_2_process', data=all_proccesses, marker='', color='red')\n",
    "plt.plot('epoch', 'elapsed_time_4_process', data=all_proccesses, marker='', color='green')\n",
    "plt.plot('epoch', 'elapsed_time_8_process', data=all_proccesses, marker='', color='skyblue')\n",
    "\n",
    "plt.legend()\n",
    "\n",
    "plt.show()"
   ]
  },
  {
   "cell_type": "markdown",
   "metadata": {},
   "source": [
    "Also as expected, increasing the number of processes shortens the total run time. However, doubling the number of processes each time does not cut the total time in half.\n",
    "\n",
    "I would expect if we continued to double the number of processes, we would see an exponential decay effect, which aligns with the scalability laws we've discussed.\n",
    "\n",
    "Gustafson's Law would be more applicable here due to the input size changing with the number of processes. Amdahl's Law assumes that the input data is of fixed size."
   ]
  }
 ],
 "metadata": {
  "kernelspec": {
   "display_name": "Python 3",
   "language": "python",
   "name": "python3"
  },
  "language_info": {
   "codemirror_mode": {
    "name": "ipython",
    "version": 3
   },
   "file_extension": ".py",
   "mimetype": "text/x-python",
   "name": "python",
   "nbconvert_exporter": "python",
   "pygments_lexer": "ipython3",
   "version": "3.8.5"
  }
 },
 "nbformat": 4,
 "nbformat_minor": 4
}
